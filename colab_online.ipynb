{
  "cells": [
    {
      "cell_type": "markdown",
      "metadata": {
        "id": "eQFWSBZ5TlbU"
      },
      "source": [
        "[![GitHub stars](https://img.shields.io/github/stars/EssayKillerBrain/EssayKiller?style=social)](https://github.com/imcaspar/gpt2-ml)\n",
        "[![GitHub](https://img.shields.io/github/license/EssayKillerBrain/EssayKiller)](https://github.com/imcaspar/gpt2-ml)\n",
        "[![Twitter URL](https://img.shields.io/twitter/url?style=social&url=https%3A%2F%2Fgithub.com%2Fimcaspar%2Fgpt2-ml)](https://twitter.com/intent/tweet?text=Wow:&url=https://github.com/imcaspar/gpt2-ml)\n",
        "### 高考作文生成指南:\n",
        "\n",
        "* 点击代码框左上角的▶️，选择RUN ANYWAY\n",
        "* 等待对应代码文件、模型文件下载\n",
        "* 输入参数，代表长度\n",
        "* 输入作文题目（摘要模块没有部署，请自己提炼作文题中的主旨句）\n",
        "\n",
        "之后就会生成对应文章，效果如下:"
      ]
    },
    {
      "cell_type": "code",
      "execution_count": 2,
      "metadata": {
        "id": "A_B7LPQeTlba",
        "outputId": "73a382a3-f2af-4617-bf3a-23e3d5dfa8c7",
        "colab": {
          "base_uri": "https://localhost:8080/"
        }
      },
      "outputs": [
        {
          "output_type": "stream",
          "name": "stdout",
          "text": [
            "预加载模块结束，请继续点击下方的▶️\n"
          ]
        }
      ],
      "source": [
        "#@title #参数与开源框架预加载\n",
        "!pip install pandas==0.24.2 &> tmp.log\n",
        "!pip install regex==2019.4.14 &> tmp.log\n",
        "!pip install h5py==2.10.0 &> tmp.log\n",
        "!pip install numpy==1.18.4 &> tmp.log\n",
        "!pip install tensorboard==1.15.0 &> tmp.log\n",
        "!pip install tensorflow-gpu==1.15.2 &> tmp.log\n",
        "!pip install tensorflow-estimator==1.15.1 &> tmp.log\n",
        "!pip install tqdm==4.31.1 &> tmp.log\n",
        "!pip install requests==2.22.0 &> tmp.log\n",
        "!pip install ujson==2.0.3 &> tmp.log\n",
        "!echo '预加载模块结束，请继续点击下方的▶️'\n",
        "#@title #Prerequisites"
      ]
    },
    {
      "cell_type": "code",
      "execution_count": 3,
      "metadata": {
        "id": "TYaMxNfuTlbb",
        "outputId": "4b3244b8-049f-43c5-a782-990484e5c055",
        "colab": {
          "base_uri": "https://localhost:8080/"
        }
      },
      "outputs": [
        {
          "output_type": "stream",
          "name": "stdout",
          "text": [
            "/home\n",
            "Cloning into 'EssayKiller_V2'...\n",
            "remote: Enumerating objects: 560, done.\u001b[K\n",
            "remote: Counting objects: 100% (37/37), done.\u001b[K\n",
            "remote: Compressing objects: 100% (33/33), done.\u001b[K\n",
            "remote: Total 560 (delta 14), reused 18 (delta 4), pack-reused 523 (from 1)\u001b[K\n",
            "Receiving objects: 100% (560/560), 206.37 MiB | 14.80 MiB/s, done.\n",
            "Resolving deltas: 100% (170/170), done.\n",
            "Updating files: 100% (274/274), done.\n",
            "/home/EssayKiller_V2/LanguageNetwork/GPT2/finetune\n",
            "--2024-11-30 04:26:55--  https://docs.google.com/uc?id=1ajR-yVWmZC_z7HgNjz4tivNz-vUCgKBC&export=download&confirm=t\n",
            "Resolving docs.google.com (docs.google.com)... 172.217.194.102, 172.217.194.113, 172.217.194.138, ...\n",
            "Connecting to docs.google.com (docs.google.com)|172.217.194.102|:443... connected.\n",
            "HTTP request sent, awaiting response... 303 See Other\n",
            "Location: https://drive.usercontent.google.com/download?id=1ajR-yVWmZC_z7HgNjz4tivNz-vUCgKBC&export=download [following]\n",
            "--2024-11-30 04:26:55--  https://drive.usercontent.google.com/download?id=1ajR-yVWmZC_z7HgNjz4tivNz-vUCgKBC&export=download\n",
            "Resolving drive.usercontent.google.com (drive.usercontent.google.com)... 74.125.130.132, 2404:6800:4003:c01::84\n",
            "Connecting to drive.usercontent.google.com (drive.usercontent.google.com)|74.125.130.132|:443... connected.\n",
            "HTTP request sent, awaiting response... 200 OK\n",
            "Length: 2449 (2.4K) [text/html]\n",
            "Saving to: ‘trained_models/model.ckpt-280000.data-00000-of-00001’\n",
            "\n",
            "     0K                                    100% 20.0M=0s\n",
            "\n",
            "2024-11-30 04:26:55 (20.0 MB/s) - ‘trained_models/model.ckpt-280000.data-00000-of-00001’ saved [2449/2449]\n",
            "\n",
            "\n",
            "Downloading complete\n",
            "\n",
            "model.ckpt-280000.i 100%[===================>]  70.68K  --.-KB/s    in 0.002s  \n",
            "model.ckpt-280000.m 100%[===================>]  12.49M  42.3MB/s    in 0.3s    \n",
            "模型下载完成，Git项目已构建，请继续点击下方的▶️\n"
          ]
        }
      ],
      "source": [
        "#@title #模型框架加载模块\n",
        "%cd /home\n",
        "!git clone -b master https://github.com/EssayKillerBrain/EssayKiller_V2.git\n",
        "\n",
        "#%tensorflow_version 1.5.2-GPU/TPU\n",
        "!mkdir -p /home/EssayKiller_V2/LanguageNetwork/GPT2/finetune/trained_models\n",
        "\n",
        "%cd /home/EssayKiller_V2/LanguageNetwork/GPT2/finetune/\n",
        "!perl /home/EssayKiller_V2/LanguageNetwork/GPT2/scripts/gdown.pl https://drive.google.com/file/d/1ajR-yVWmZC_z7HgNjz4tivNz-vUCgKBC trained_models/model.ckpt-280000.data-00000-of-00001\n",
        "!wget -q --show-progress https://github.com/EssayKillerBrain/EssayKiller/releases/download/v1.0/model.ckpt-280000.index -P /home/EssayKiller_V2/LanguageNetwork/GPT2/finetune/trained_models\n",
        "!wget -q --show-progress https://github.com/EssayKillerBrain/EssayKiller/releases/download/v1.0/model.ckpt-280000.meta -P /home/EssayKiller_V2/LanguageNetwork/GPT2/finetune/trained_models\n",
        "\n",
        "!echo '模型下载完成，Git项目已构建，请继续点击下方的▶️'\n",
        "# If gdown.pl failed, please uncomment following code & exec"
      ]
    },
    {
      "cell_type": "markdown",
      "metadata": {
        "id": "8wRGouVgTlbc"
      },
      "source": [
        "### 模型参数设置:\n",
        "\n",
        "* 1.作文最小篇幅：\n",
        "生成对应字数的高考作文，可自己调节长度，最长为1024个汉字。\n",
        "一般来说越短的文章AI表现越好。\n",
        "\n",
        "* 2.生成作文篇数：\n",
        "默认会生成1篇议论文，生成时间取决于服务器状态\n",
        "一般不超过60秒。受限于线上GPU内存，篇数最多为100。\n"
      ]
    },
    {
      "cell_type": "code",
      "execution_count": 7,
      "metadata": {
        "id": "9Ggk70tVTlbc",
        "outputId": "522e2537-3ff5-4f50-993f-3432661cb66c",
        "colab": {
          "base_uri": "https://localhost:8080/"
        }
      },
      "outputs": [
        {
          "output_type": "stream",
          "name": "stdout",
          "text": [
            "mv: cannot stat '/home/EssayKiller_V2/LanguageNetwork/GPT2/finetune/models/mega/*': No such file or directory\n",
            "/home/EssayKiller_V2/LanguageNetwork/GPT2\n",
            "模型加载中，请稍后......\n",
            "WARNING: All log messages before absl::InitializeLog() is called are written to STDERR\n",
            "I0000 00:00:1732942327.238676    9816 cuda_executor.cc:1015] successful NUMA node read from SysFS had negative value (-1), but there must be at least one NUMA node, so returning NUMA node zero. See more at https://github.com/torvalds/linux/blob/v6.0/Documentation/ABI/testing/sysfs-bus-pci#L344-L355\n",
            "I0000 00:00:1732942327.305483    9816 cuda_executor.cc:1015] successful NUMA node read from SysFS had negative value (-1), but there must be at least one NUMA node, so returning NUMA node zero. See more at https://github.com/torvalds/linux/blob/v6.0/Documentation/ABI/testing/sysfs-bus-pci#L344-L355\n",
            "I0000 00:00:1732942327.305833    9816 cuda_executor.cc:1015] successful NUMA node read from SysFS had negative value (-1), but there must be at least one NUMA node, so returning NUMA node zero. See more at https://github.com/torvalds/linux/blob/v6.0/Documentation/ABI/testing/sysfs-bus-pci#L344-L355\n",
            "I0000 00:00:1732942327.403168    9816 cuda_executor.cc:1015] successful NUMA node read from SysFS had negative value (-1), but there must be at least one NUMA node, so returning NUMA node zero. See more at https://github.com/torvalds/linux/blob/v6.0/Documentation/ABI/testing/sysfs-bus-pci#L344-L355\n",
            "I0000 00:00:1732942327.403488    9816 cuda_executor.cc:1015] successful NUMA node read from SysFS had negative value (-1), but there must be at least one NUMA node, so returning NUMA node zero. See more at https://github.com/torvalds/linux/blob/v6.0/Documentation/ABI/testing/sysfs-bus-pci#L344-L355\n",
            "I0000 00:00:1732942327.403734    9816 cuda_executor.cc:1015] successful NUMA node read from SysFS had negative value (-1), but there must be at least one NUMA node, so returning NUMA node zero. See more at https://github.com/torvalds/linux/blob/v6.0/Documentation/ABI/testing/sysfs-bus-pci#L344-L355\n",
            "Traceback (most recent call last):\n",
            "  File \"/home/EssayKiller_V2/LanguageNetwork/GPT2/scripts/demo.py\", line 174, in <module>\n",
            "    tokens, probs = sample(news_config=news_config, initial_context=initial_context,\n",
            "  File \"/home/EssayKiller_V2/LanguageNetwork/GPT2/scripts/modeling.py\", line 766, in sample\n",
            "    context_output = initialize_from_context(initial_context, ignore_ids=ignore_ids, news_config=news_config,\n",
            "  File \"/home/EssayKiller_V2/LanguageNetwork/GPT2/scripts/modeling.py\", line 739, in initialize_from_context\n",
            "    context_output = sample_step(tokens=initial_context, ignore_ids=ignore_ids, news_config=news_config,\n",
            "  File \"/home/EssayKiller_V2/LanguageNetwork/GPT2/scripts/modeling.py\", line 706, in sample_step\n",
            "    model = GroverModel(\n",
            "  File \"/home/EssayKiller_V2/LanguageNetwork/GPT2/scripts/modeling.py\", line 471, in __init__\n",
            "    embeddings, self.embedding_table = embed(self.input_ids, config.vocab_size,\n",
            "  File \"/home/EssayKiller_V2/LanguageNetwork/GPT2/scripts/modeling.py\", line 280, in embed\n",
            "    initializer=create_initializer(initializer_range),\n",
            "  File \"/home/EssayKiller_V2/LanguageNetwork/GPT2/scripts/modeling.py\", line 121, in create_initializer\n",
            "    return tf.truncated_normal_initializer(stddev=initializer_range)\n",
            "AttributeError: module 'tensorflow' has no attribute 'truncated_normal_initializer'. Did you mean: 'random_normal_initializer'?\n",
            "the lens:  13\n",
            "Traceback (most recent call last):\n",
            "  File \"/home/EssayKiller_V2/LanguageNetwork/GPT2/scripts/formatter.py\", line 132, in <module>\n",
            "    with open(args.org_text, 'r',encoding='UTF-8') as f:\n",
            "FileNotFoundError: [Errno 2] No such file or directory: 'result.txt'\n"
          ]
        }
      ],
      "source": [
        "#!cat /usr/local/lib/python3.6/dist-packages/tensorflow_core/python/tpu/tpu_feed.py\n",
        "#@title #文章生成模块\n",
        "作文最小篇幅 = 700 #@param {type:\"number\", min:800, max:1024, step:1}\n",
        "生成作文篇数 = 1 #@param {type:\"number\", min:1, max:100, step:1}\n",
        "%mv /home/EssayKiller_V2/LanguageNetwork/GPT2/finetune/models/mega/* /home/EssayKiller_V2/LanguageNetwork/GPT2/finetune/trained_models/\n",
        "%cd /home/EssayKiller_V2/LanguageNetwork/GPT2/\n",
        "!export TF_CPP_MIN_LOG_LEVEL=2\n",
        "!echo '模型加载中，请稍后......'\n",
        "!PYTHONPATH=$(pwd) python scripts/demo.py -ckpt_fn finetune/trained_models/model.ckpt-280000 -min_len $作文最小篇幅 -samples $生成作文篇数\n",
        "!PYTHONPATH=$(pwd) python scripts/formatter.py -org_text result.txt"
      ]
    }
  ],
  "metadata": {
    "colab": {
      "name": "17亿参数-高考作文生成AI | 1.7B GPT2 Pretrained Essay Killer Brain",
      "provenance": []
    },
    "kernelspec": {
      "name": "python3",
      "display_name": "Python 3"
    },
    "accelerator": "GPU"
  },
  "nbformat": 4,
  "nbformat_minor": 0
}